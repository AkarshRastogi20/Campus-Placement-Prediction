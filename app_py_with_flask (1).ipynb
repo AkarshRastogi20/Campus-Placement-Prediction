{
  "nbformat": 4,
  "nbformat_minor": 0,
  "metadata": {
    "colab": {
      "provenance": []
    },
    "kernelspec": {
      "name": "python3",
      "display_name": "Python 3"
    },
    "language_info": {
      "name": "python"
    }
  },
  "cells": [
    {
      "cell_type": "markdown",
      "source": [
        "**Create template folder and their files**"
      ],
      "metadata": {
        "id": "CsUH2JXQsjK_"
      }
    },
    {
      "cell_type": "code",
      "source": [
        "# Create the template folder\n",
        "!mkdir template"
      ],
      "metadata": {
        "colab": {
          "base_uri": "https://localhost:8080/"
        },
        "id": "NO1uNv9UrUPn",
        "outputId": "eed39bdf-5f6f-43bf-c195-435acbba2d2b"
      },
      "execution_count": 2,
      "outputs": [
        {
          "output_type": "stream",
          "name": "stdout",
          "text": [
            "mkdir: cannot create directory ‘template’: File exists\n"
          ]
        }
      ]
    },
    {
      "cell_type": "code",
      "source": [
        "# Create home.html file into template folder\n",
        "\n",
        "%%writefile template/home.html\n",
        "\n",
        "<!DOCTYPE html>\n",
        "<html lang=\"en\">\n",
        "<head>\n",
        "    <title>Student Placement Prediction</title>\n",
        "    <meta name=\"viewport\" content=\"width=device-width, initial-scale=1\">\n",
        "<style>\n",
        "body {font-family: Arial, Helvetica, sans-serif;}\n",
        "* {box-sizing: border-box;}\n",
        "\n",
        "input[type=text] {\n",
        "  width: 100%;\n",
        "  padding: 12px;\n",
        "  border: 1px solid #ccc;\n",
        "  border-radius: 4px;\n",
        "  box-sizing: border-box;\n",
        "  margin-top: 6px;\n",
        "  margin-bottom: 16px;\n",
        "  resize: vertical;\n",
        "}\n",
        "\n",
        "input[type=submit] {\n",
        "  background-color: #4CAF50;\n",
        "  color: white;\n",
        "  padding: 12px 20px;\n",
        "  border: none;\n",
        "  border-radius: 4px;\n",
        "  cursor: pointer;\n",
        "  width: 230px;\n",
        "\n",
        "}\n",
        "\n",
        "input[type=submit]:hover {\n",
        "  background-color: #45a049;\n",
        "\n",
        "}\n",
        "\n",
        ".container {\n",
        "  border-radius: 5px;\n",
        "  background-color: #f2f2f2;\n",
        "  padding: 20px;\n",
        "  display: flex;\n",
        "}\n",
        "\n",
        ".form_wrapper {\n",
        "  flex:1;\n",
        "  text-align: center;\n",
        "}\n",
        "\n",
        ".selects{\n",
        "  width: 100%;\n",
        "  padding: 12px;\n",
        "  border: 1px solid #ccc;\n",
        "  border-radius: 4px;\n",
        "  box-sizing: border-box;\n",
        "  margin-top: 6px;\n",
        "  margin-bottom: 16px;\n",
        "  resize: vertical;\n",
        "}\n",
        "\n",
        "</style>\n",
        "</head>\n",
        "<body>\n",
        "<div class=\"container\">\n",
        "  <form action=\"/send\", name=\"send_data\", method=\"post\">\n",
        "\n",
        "\n",
        "<div class=\"form-group\">\n",
        "  <label for=\"gender\">Gender</label>\n",
        "  <select name=\"gender\" class = \"selects\" >\n",
        "    <option  value=\"M\">Male</option>\n",
        "    <option value = \"F\">Female</option>\n",
        "  </select>\n",
        "</div>\n",
        "\n",
        "    <label>Secondary Education Percentage - 10th Grade</label>\n",
        "    <input type=\"text\"  name=\"ssc_p\" placeholder=\"10th grade in percentage\">\n",
        "\n",
        "\n",
        "    <label>Higher Secondary Education Percentage - 12th Grade</label>\n",
        "    <input type=\"text\" name=\"hsc_p\" placeholder=\"12th Percentage\">\n",
        "\n",
        "\n",
        "    <div class=\"form-group\">\n",
        "      <label for=\"hsc_s1\">Specialization in Higher Secondary Education</label>\n",
        "      <select name=\"hsc_s1\" class = \"selects\" >\n",
        "        <option  value=\"Commerce\">Commerce</option>\n",
        "        <option value = \"Science\">Science</option>\n",
        "        <option value = \"Others\">Others</option>\n",
        "      </select>\n",
        "    </div>\n",
        "\n",
        "    <label>Degree Percentage</label>\n",
        "    <input type=\"text\" name=\"degree_p\" placeholder=\"Degree percentage\">\n",
        "\n",
        "\n",
        "\n",
        "    <div class=\"form-group\">\n",
        "      <label for=\"degree_t1\">Under Graduation(Degree type)- Field of degree education</label>\n",
        "      <select name=\"degree_t1\" class = \"selects\" >\n",
        "        <option  value=\"Sci&Tech\">Sci&Tech</option>\n",
        "        <option value = \"Comm&Mgmt\">Comm&Mgmt</option>\n",
        "        <option value = \"Arts\">Arts</option>\n",
        "      </select>\n",
        "    </div>\n",
        "\n",
        "    <div class=\"form-group\">\n",
        "      <label for=\"workex1\">Work Experience</label>\n",
        "      <select name=\"workex1\" class = \"selects\" >\n",
        "        <option  value=\"No\">No</option>\n",
        "        <option value = \"Yes\">Yes</option>\n",
        "      </select>\n",
        "    </div>\n",
        "\n",
        "    <label>Employability test percentage ( conducted by college)</label>\n",
        "    <input type=\"text\" name=\"etest_p\" placeholder=\"in percentage\">\n",
        "\n",
        "    <div class=\"form-group\">\n",
        "      <label for=\"specialisation1\">Specialization</label>\n",
        "      <select name=\"specialisation1\" class = \"selects\" >\n",
        "        <option  value=\"Mkt&HR\">Mkt&HR</option>\n",
        "        <option value = \"Mkt&Fin\">Mkt&Fin</option>\n",
        "      </select>\n",
        "    </div>\n",
        "\n",
        "    <label>MBA Percentage</label>\n",
        "    <input type=\"text\" name=\"mba_p\" placeholder=\"In percentage\">\n",
        "\n",
        "\n",
        "    <div class=\"form_wrapper\">\n",
        "       <input type=\"submit\" value=\"Submit\"/>\n",
        "    </div>\n",
        "\n",
        "  </form>\n",
        "\n",
        "\n",
        "</div>\n",
        "</body>\n",
        "</html>"
      ],
      "metadata": {
        "colab": {
          "base_uri": "https://localhost:8080/"
        },
        "id": "neecB2D_rVhY",
        "outputId": "a0ae5a69-6581-459e-9be9-76c4a2b2976a"
      },
      "execution_count": 4,
      "outputs": [
        {
          "output_type": "stream",
          "name": "stdout",
          "text": [
            "Writing template/home.html\n"
          ]
        }
      ]
    },
    {
      "cell_type": "code",
      "source": [
        "# Create show.html file into template folder\n",
        "\n",
        "%%writefile template/show.html\n",
        "\n",
        "\n",
        "<!DOCTYPE html>\n",
        "<html lang=\"en\">\n",
        "<head>\n",
        "    <meta charset=\"UTF-8\">\n",
        "    <title>display results</title>\n",
        "    <style>\n",
        "    h1 {\n",
        "\tmargin: 1em 0 0.5em 0;\n",
        "\tcolor: #343434;\n",
        "\tfont-weight: normal;\n",
        "\tfont-family: 'Ultra', sans-serif;\n",
        "\tfont-size: 36px;\n",
        "\tline-height: 42px;\n",
        "\ttext-transform: uppercase;\n",
        "\ttext-shadow: 0 2px white, 0 3px #777;\n",
        "\ttext-align: center;\n",
        "}\n",
        "\n",
        "h2 {\n",
        "\tmargin: 1em 0 0.5em 0;\n",
        "\tcolor: #343434;\n",
        "\tfont-weight: normal;\n",
        "\tfont-size: 30px;\n",
        "\tline-height: 40px;\n",
        "\tfont-family: 'Orienta', sans-serif;\n",
        "\ttext-align: center;\n",
        "}\n",
        "\n",
        "h3 {\n",
        "\tmargin: 1em 0 0.5em 0;\n",
        "\tcolor: #343434;\n",
        "\tfont-size: 22px;\n",
        "\tline-height: 40px;\n",
        "\tfont-weight: normal;\n",
        "\ttext-transform: uppercase;\n",
        "\tfont-family: 'Orienta', sans-serif;\n",
        "\tletter-spacing: 1px;\n",
        "\tfont-style: italic;\n",
        "}\n",
        "\n",
        "    </style>\n",
        "</head>\n",
        "<body>\n",
        "<h1>PLACEMENT PREDICTION</h1>\n",
        "\n",
        "<h3>{{ pred }}</h3>\n",
        "\n",
        "<div class=\"prediction\">\n",
        "    <h2>Placement Prediction : {{ res }}</h2>\n",
        "\n",
        "</div>\n",
        "</body>\n",
        "</html>"
      ],
      "metadata": {
        "colab": {
          "base_uri": "https://localhost:8080/"
        },
        "id": "vLbWjtnWrwog",
        "outputId": "e9547b9c-4623-4568-c69e-887468695812"
      },
      "execution_count": 6,
      "outputs": [
        {
          "output_type": "stream",
          "name": "stdout",
          "text": [
            "Writing template/show.html\n"
          ]
        }
      ]
    },
    {
      "cell_type": "markdown",
      "source": [
        "**Create app.py file**"
      ],
      "metadata": {
        "id": "x7SPm4eaxs5Q"
      }
    },
    {
      "cell_type": "code",
      "source": [
        "from flask import Flask, render_template, request\n",
        "import pickle\n",
        "import pandas as pd\n",
        "import numpy as np\n",
        "from sklearn.preprocessing import StandardScaler\n",
        "from sklearn.pipeline import Pipeline\n",
        "\n",
        "app = Flask(__name__, template_folder='/content/template')\n",
        "model_name = open('/content/final_log_reg_model.pkl','rb')\n",
        "svm_model=pickle.load(model_name)\n",
        "\n",
        "\n",
        "@app.route('/')\n",
        "def home():\n",
        "    return render_template(\"home.html\")\n",
        "\n",
        "\n",
        "\n",
        "@app.route('/send', methods=['GET','POST'])\n",
        "def predict():\n",
        "    if request.method == \"POST\" :\n",
        "\n",
        "        Gender = request.form['gender']\n",
        "        ssc_p = request.form['ssc_p']\n",
        "        hsc_p = request.form['hsc_p']\n",
        "        hsc_s = request.form['hsc_s1']\n",
        "        degree_p = request.form['degree_p']\n",
        "        degree_t = request.form['degree_t1']\n",
        "        workex = request.form['workex1']\n",
        "        etest_p = request.form['etest_p']\n",
        "        specialisation = request.form['specialisation1']\n",
        "        mba_p = request.form['mba_p']\n",
        "\n",
        "\n",
        "        if Gender == 'M':\n",
        "            gender = 0\n",
        "        else:\n",
        "            gender = 1\n",
        "\n",
        "\n",
        "        if degree_t == 'Sci&Tech':\n",
        "            degree_t1 = 2\n",
        "        elif degree_t == 'Comm&Mgmt':\n",
        "            degree_t1 = 0\n",
        "        else:\n",
        "            degree_t1 = 1\n",
        "\n",
        "        if workex == 'Yes':\n",
        "            workex1 = 1\n",
        "        else:\n",
        "            workex1 = 0\n",
        "\n",
        "        if hsc_s == 'Commerce':\n",
        "            hsc_s1 = 1\n",
        "        elif hsc_s == 'Science':\n",
        "            hsc_s1 = 2\n",
        "        else:\n",
        "            hsc_s1 = 0\n",
        "\n",
        "        if specialisation == 'Mkt&HR':\n",
        "            specialisation1 = 1\n",
        "        else:\n",
        "            specialisation1 = 0\n",
        "\n",
        "        Pred_args=[gender,ssc_p,hsc_p,hsc_s1,degree_p,degree_t1,workex1,etest_p,specialisation1,mba_p]\n",
        "        pred_args=np.array(Pred_args)\n",
        "        pred_args=pred_args.reshape(1,-1)\n",
        "\n",
        "        y_pred=svm_model.predict(pred_args)\n",
        "        y_pred=y_pred[0]\n",
        "        if y_pred == 0:\n",
        "            return render_template('show.html',res=\"Work Hard!!! Chances are less\")\n",
        "        else:\n",
        "            return render_template('show.html',res=\" You are Doing well!! You Will Get placements\")\n",
        "\n",
        "\n",
        "\n",
        "\n",
        "\n",
        "if __name__ == '__main__':\n",
        "    app.run()"
      ],
      "metadata": {
        "colab": {
          "base_uri": "https://localhost:8080/"
        },
        "id": "kTYthqkxqGSQ",
        "outputId": "6114a22d-d531-4da5-e402-a145217cd0d0"
      },
      "execution_count": 8,
      "outputs": [
        {
          "output_type": "stream",
          "name": "stdout",
          "text": [
            " * Serving Flask app '__main__'\n",
            " * Debug mode: off\n"
          ]
        },
        {
          "output_type": "stream",
          "name": "stderr",
          "text": [
            "INFO:werkzeug:\u001b[31m\u001b[1mWARNING: This is a development server. Do not use it in a production deployment. Use a production WSGI server instead.\u001b[0m\n",
            " * Running on http://127.0.0.1:5000\n",
            "INFO:werkzeug:\u001b[33mPress CTRL+C to quit\u001b[0m\n"
          ]
        }
      ]
    },
    {
      "cell_type": "code",
      "source": [],
      "metadata": {
        "id": "SCsWznPbsQ_D"
      },
      "execution_count": null,
      "outputs": []
    }
  ]
}